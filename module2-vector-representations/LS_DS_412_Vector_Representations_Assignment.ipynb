{
 "cells": [
  {
   "cell_type": "markdown",
   "metadata": {},
   "source": [
    "<img align=\"left\" src=\"https://lever-client-logos.s3.amazonaws.com/864372b1-534c-480e-acd5-9711f850815c-1524247202159.png\" width=200>\n",
    "<br></br>\n",
    "\n",
    "# Vector Representations\n",
    "## *Data Science Unit 4 Sprint 2 Assignment 2*"
   ]
  },
  {
   "cell_type": "code",
   "execution_count": 1,
   "metadata": {
    "colab": {
     "base_uri": "https://localhost:8080/",
     "height": 159
    },
    "colab_type": "code",
    "id": "hyj-f9FDcVFp",
    "outputId": "5dd045fe-6e4c-458c-e2fc-253c3da9c805"
   },
   "outputs": [],
   "source": [
    "import re\n",
    "import string\n",
    "\n",
    "from sklearn.feature_extraction.text import CountVectorizer, TfidfVectorizer\n",
    "import matplotlib.pyplot as plt\n",
    "import pandas as pd\n",
    "import numpy as np\n",
    "import spacy\n",
    "\n",
    "from bs4 import BeautifulSoup"
   ]
  },
  {
   "cell_type": "markdown",
   "metadata": {
    "colab_type": "text",
    "id": "M7bcmqfGXrFG"
   },
   "source": [
    "## 1) *Clean:* Job Listings from indeed.com that contain the title \"Data Scientist\" \n",
    "\n",
    "You have `job_listings.csv` in the data folder for this module. The text data in the description column is still messy - full of html tags. Use the [BeautifulSoup](https://www.crummy.com/software/BeautifulSoup/bs4/doc/) library to clean up this column. You will need to read through the documentation to accomplish this task. "
   ]
  },
  {
   "cell_type": "code",
   "execution_count": 80,
   "metadata": {
    "colab": {},
    "colab_type": "code",
    "id": "KcYlc1URXhlC"
   },
   "outputs": [],
   "source": [
    "from bs4 import BeautifulSoup as bs\n",
    "import requests\n",
    "\n",
    "##### Your Code Here #####\n",
    "df = pd.read_csv(\"data/job_listings.csv\")\n",
    "df = df[['description', 'title']]\n",
    "\n",
    "# Turn columns into new string type and filter by substring\n",
    "df['description'] = df['description'].astype(\"string\")\n",
    "df['title'] = df['title'].astype(\"string\")\n",
    "df = df[df['title'].str.lower().str.strip().str.contains(\"data scientist\")]"
   ]
  },
  {
   "cell_type": "code",
   "execution_count": 81,
   "metadata": {},
   "outputs": [],
   "source": [
    "def clean_html(html):\n",
    "    text = bs(html)\n",
    "    strings = [re.sub(\"\\\\\\\\.|[^a-zA-Z\\\"',./ ]+\", '', string)\n",
    "     for string in text.stripped_strings\n",
    "     if re.sub(\"\\\\\\\\.|[^a-zA-Z\\\"',./ ]+\", '', string)]\n",
    "    \n",
    "    return \" \".join(strings[2:])\n",
    "    \n",
    "    "
   ]
  },
  {
   "cell_type": "code",
   "execution_count": 86,
   "metadata": {},
   "outputs": [],
   "source": [
    "df['description'] = df['description'].map(clean_html)"
   ]
  },
  {
   "cell_type": "markdown",
   "metadata": {
    "colab_type": "text",
    "id": "5C4xFZNtX1m2"
   },
   "source": [
    "## 2) Use Spacy to tokenize the listings "
   ]
  },
  {
   "cell_type": "code",
   "execution_count": 83,
   "metadata": {
    "colab": {},
    "colab_type": "code",
    "id": "dhUHuMr-X-II"
   },
   "outputs": [],
   "source": [
    "##### Your Code Here #####\n",
    "nlp = spacy.load(\"en_core_web_lg\")"
   ]
  },
  {
   "cell_type": "code",
   "execution_count": 84,
   "metadata": {},
   "outputs": [],
   "source": [
    "tokenizer = nlp.Defaults.create_tokenizer(nlp)"
   ]
  },
  {
   "cell_type": "code",
   "execution_count": 93,
   "metadata": {},
   "outputs": [
    {
     "data": {
      "text/plain": [
       "0    [Conceptual, understand, Machine, Learning, mo...\n",
       "1    [Data, Scientist, help, build, machine, learn,...\n",
       "2    [Ability, statistical, model, build, predictiv...\n",
       "3    [Contract, general, supervision, Professors, D...\n",
       "4    [year, Analytics, experience, Understand, busi...\n",
       "Name: tokens, dtype: object"
      ]
     },
     "execution_count": 93,
     "metadata": {},
     "output_type": "execute_result"
    }
   ],
   "source": [
    "tokens = []\n",
    "for doc in tokenizer.pipe(df['description']):\n",
    "    doc_tokens = [\n",
    "        token.lemma_\n",
    "        for token in doc\n",
    "        if token.is_stop == False\n",
    "        and token.is_punct == False\n",
    "        and token.text != \" \"\n",
    "    ]\n",
    "    tokens.append(doc_tokens)\n",
    "    \n",
    "df['tokens']= tokens\n",
    "df['tokens'].head()"
   ]
  },
  {
   "cell_type": "markdown",
   "metadata": {
    "colab_type": "text",
    "id": "-lgCZNL_YycP"
   },
   "source": [
    "## 3) Use Scikit-Learn's CountVectorizer to get word counts for each listing."
   ]
  },
  {
   "cell_type": "code",
   "execution_count": 178,
   "metadata": {},
   "outputs": [],
   "source": [
    "def sklearn_tokenizer(text):\n",
    "    stopwords = spacy.lang.en.stop_words.STOP_WORDS.union({'datum'})    \n",
    "    tokens = tokenizer(text)\n",
    "    doc_tokens = [\n",
    "        token.lemma_\n",
    "        for token in tokens\n",
    "        if token.lemma_ not in stopwords\n",
    "        and token.is_punct == False\n",
    "        and token.lemma_ != \" \"\n",
    "        ]\n",
    "    return doc_tokens"
   ]
  },
  {
   "cell_type": "code",
   "execution_count": 179,
   "metadata": {},
   "outputs": [
    {
     "data": {
      "text/plain": [
       "['Conceptual',\n",
       " 'understand',\n",
       " 'Machine',\n",
       " 'Learning',\n",
       " 'model',\n",
       " 'like',\n",
       " 'Naicxave',\n",
       " 'Bayes',\n",
       " 'KMeans',\n",
       " 'SVM',\n",
       " 'Apriori',\n",
       " 'Linear/',\n",
       " 'Logistic',\n",
       " 'Regression',\n",
       " 'Neural',\n",
       " 'Random',\n",
       " 'Forests',\n",
       " 'Decision',\n",
       " 'Trees',\n",
       " 'KNN',\n",
       " 'handson',\n",
       " 'experience',\n",
       " 'little',\n",
       " 'Intermediate',\n",
       " 'expert',\n",
       " 'level',\n",
       " 'code',\n",
       " 'skill',\n",
       " 'Python',\n",
       " 'R.',\n",
       " 'Ability',\n",
       " 'write',\n",
       " 'function',\n",
       " 'clean',\n",
       " 'efficient',\n",
       " 'manipulation',\n",
       " 'mandatory',\n",
       " 'role',\n",
       " 'Exposure',\n",
       " 'package',\n",
       " 'like',\n",
       " 'NumPy',\n",
       " 'SciPy',\n",
       " 'Pandas',\n",
       " 'Matplotlib',\n",
       " 'etc',\n",
       " 'Python',\n",
       " 'GGPlot',\n",
       " 'dplyr',\n",
       " 'tidyR',\n",
       " 'R',\n",
       " 'Ability',\n",
       " 'communicate',\n",
       " 'Model',\n",
       " 'finding',\n",
       " 'Technical',\n",
       " 'NonTechnical',\n",
       " 'stake',\n",
       " 'holder',\n",
       " 'Hands',\n",
       " 'experience',\n",
       " 'SQL',\n",
       " 'Hive',\n",
       " 'similar',\n",
       " 'programme',\n",
       " 'language',\n",
       " 'Must',\n",
       " 'past',\n",
       " 'work',\n",
       " 'GitHub',\n",
       " 'Kaggle',\n",
       " 'publish',\n",
       " 'article',\n",
       " 'Master',\n",
       " 'degree',\n",
       " 'Statistics',\n",
       " 'Mathematics',\n",
       " 'Computer',\n",
       " 'Science',\n",
       " 'quant',\n",
       " 'specific',\n",
       " 'field',\n",
       " 'Apply',\n",
       " 'Now']"
      ]
     },
     "execution_count": 179,
     "metadata": {},
     "output_type": "execute_result"
    }
   ],
   "source": [
    "sklearn_tokenizer(df['description'][0])"
   ]
  },
  {
   "cell_type": "code",
   "execution_count": 180,
   "metadata": {
    "colab": {},
    "colab_type": "code",
    "id": "X2PZ8Pj_YxcF"
   },
   "outputs": [
    {
     "name": "stdout",
     "output_type": "stream",
     "text": [
      "  (0, 1133)\t1\n",
      "  (0, 6134)\t1\n",
      "  (0, 3526)\t1\n",
      "  (0, 3375)\t1\n",
      "  (0, 3771)\t2\n",
      "  (0, 3431)\t2\n",
      "  (0, 3875)\t1\n",
      "  (0, 527)\t1\n",
      "  (0, 3300)\t1\n",
      "  (0, 5759)\t1\n",
      "  (0, 338)\t1\n",
      "  (0, 3443)\t1\n",
      "  (0, 3474)\t1\n",
      "  (0, 4882)\t1\n",
      "  (0, 3930)\t1\n",
      "  (0, 4776)\t1\n",
      "  (0, 2403)\t1\n",
      "  (0, 1489)\t1\n",
      "  (0, 6033)\t1\n",
      "  (0, 3306)\t1\n",
      "  (0, 2681)\t1\n",
      "  (0, 2117)\t2\n",
      "  (0, 3458)\t1\n",
      "  (0, 3138)\t1\n",
      "  (0, 2125)\t1\n",
      "  :\t:\n",
      "  (405, 2223)\t2\n",
      "  (405, 2137)\t1\n",
      "  (405, 797)\t1\n",
      "  (405, 4222)\t1\n",
      "  (405, 6314)\t1\n",
      "  (405, 1885)\t1\n",
      "  (405, 4916)\t1\n",
      "  (405, 1929)\t1\n",
      "  (405, 6330)\t1\n",
      "  (405, 4878)\t1\n",
      "  (405, 599)\t2\n",
      "  (405, 5327)\t1\n",
      "  (405, 289)\t2\n",
      "  (405, 4064)\t1\n",
      "  (405, 5183)\t1\n",
      "  (405, 2635)\t1\n",
      "  (405, 5043)\t1\n",
      "  (405, 469)\t1\n",
      "  (405, 3547)\t1\n",
      "  (405, 3199)\t1\n",
      "  (405, 840)\t5\n",
      "  (405, 4051)\t1\n",
      "  (405, 2944)\t1\n",
      "  (405, 2371)\t1\n",
      "  (405, 841)\t1\n"
     ]
    }
   ],
   "source": [
    "##### Your Code Here #####\n",
    "vect = CountVectorizer(tokenizer=sklearn_tokenizer)\n",
    "dtm = vect.fit_transform(df['description'])\n",
    "print(dtm)"
   ]
  },
  {
   "cell_type": "code",
   "execution_count": 181,
   "metadata": {},
   "outputs": [],
   "source": [
    "dtm_df = pd.DataFrame(dtm.todense(), columns=vect.get_feature_names())\n",
    "sums = dtm_df.sum(axis=0).sort_values(ascending=False)"
   ]
  },
  {
   "cell_type": "markdown",
   "metadata": {
    "colab_type": "text",
    "id": "Zo1iH_UeY7_n"
   },
   "source": [
    "## 4) Visualize the most common word counts"
   ]
  },
  {
   "cell_type": "code",
   "execution_count": 182,
   "metadata": {
    "colab": {},
    "colab_type": "code",
    "id": "M5LB00uyZKV5"
   },
   "outputs": [
    {
     "data": {
      "text/plain": [
       "<matplotlib.axes._subplots.AxesSubplot at 0x7fa657536fa0>"
      ]
     },
     "execution_count": 182,
     "metadata": {},
     "output_type": "execute_result"
    },
    {
     "data": {
      "image/png": "[encoded data removed]",
      "text/plain": [
       "<Figure size 432x288 with 1 Axes>"
      ]
     },
     "metadata": {
      "needs_background": "light"
     },
     "output_type": "display_data"
    }
   ],
   "source": [
    "##### Your Code Here #####\n",
    "plot_sums = sums[:25].reset_index()\n",
    "import seaborn as sns\n",
    "sns.lineplot(x=plot_sums.index, y = plot_sums[0])"
   ]
  },
  {
   "cell_type": "code",
   "execution_count": 183,
   "metadata": {},
   "outputs": [
    {
     "data": {
      "text/html": [
       "<div>\n",
       "<style scoped>\n",
       "    .dataframe tbody tr th:only-of-type {\n",
       "        vertical-align: middle;\n",
       "    }\n",
       "\n",
       "    .dataframe tbody tr th {\n",
       "        vertical-align: top;\n",
       "    }\n",
       "\n",
       "    .dataframe thead th {\n",
       "        text-align: right;\n",
       "    }\n",
       "</style>\n",
       "<table border=\"1\" class=\"dataframe\">\n",
       "  <thead>\n",
       "    <tr style=\"text-align: right;\">\n",
       "      <th></th>\n",
       "      <th>index</th>\n",
       "      <th>0</th>\n",
       "    </tr>\n",
       "  </thead>\n",
       "  <tbody>\n",
       "    <tr>\n",
       "      <th>0</th>\n",
       "      <td>experience</td>\n",
       "      <td>1884</td>\n",
       "    </tr>\n",
       "    <tr>\n",
       "      <th>1</th>\n",
       "      <td>work</td>\n",
       "      <td>1460</td>\n",
       "    </tr>\n",
       "    <tr>\n",
       "      <th>2</th>\n",
       "      <td>model</td>\n",
       "      <td>1176</td>\n",
       "    </tr>\n",
       "    <tr>\n",
       "      <th>3</th>\n",
       "      <td>team</td>\n",
       "      <td>1154</td>\n",
       "    </tr>\n",
       "    <tr>\n",
       "      <th>4</th>\n",
       "      <td>business</td>\n",
       "      <td>1057</td>\n",
       "    </tr>\n",
       "    <tr>\n",
       "      <th>5</th>\n",
       "      <td>learn</td>\n",
       "      <td>970</td>\n",
       "    </tr>\n",
       "    <tr>\n",
       "      <th>6</th>\n",
       "      <td>science</td>\n",
       "      <td>873</td>\n",
       "    </tr>\n",
       "    <tr>\n",
       "      <th>7</th>\n",
       "      <td>product</td>\n",
       "      <td>777</td>\n",
       "    </tr>\n",
       "    <tr>\n",
       "      <th>8</th>\n",
       "      <td>analysis</td>\n",
       "      <td>744</td>\n",
       "    </tr>\n",
       "    <tr>\n",
       "      <th>9</th>\n",
       "      <td>use</td>\n",
       "      <td>712</td>\n",
       "    </tr>\n",
       "    <tr>\n",
       "      <th>10</th>\n",
       "      <td>machine</td>\n",
       "      <td>651</td>\n",
       "    </tr>\n",
       "    <tr>\n",
       "      <th>11</th>\n",
       "      <td>skill</td>\n",
       "      <td>650</td>\n",
       "    </tr>\n",
       "    <tr>\n",
       "      <th>12</th>\n",
       "      <td>build</td>\n",
       "      <td>623</td>\n",
       "    </tr>\n",
       "    <tr>\n",
       "      <th>13</th>\n",
       "      <td>analytics</td>\n",
       "      <td>616</td>\n",
       "    </tr>\n",
       "    <tr>\n",
       "      <th>14</th>\n",
       "      <td>statistical</td>\n",
       "      <td>527</td>\n",
       "    </tr>\n",
       "    <tr>\n",
       "      <th>15</th>\n",
       "      <td>scientist</td>\n",
       "      <td>525</td>\n",
       "    </tr>\n",
       "    <tr>\n",
       "      <th>16</th>\n",
       "      <td>engineer</td>\n",
       "      <td>523</td>\n",
       "    </tr>\n",
       "    <tr>\n",
       "      <th>17</th>\n",
       "      <td>opportunity</td>\n",
       "      <td>516</td>\n",
       "    </tr>\n",
       "    <tr>\n",
       "      <th>18</th>\n",
       "      <td>solution</td>\n",
       "      <td>504</td>\n",
       "    </tr>\n",
       "    <tr>\n",
       "      <th>19</th>\n",
       "      <td>ability</td>\n",
       "      <td>504</td>\n",
       "    </tr>\n",
       "    <tr>\n",
       "      <th>20</th>\n",
       "      <td>include</td>\n",
       "      <td>480</td>\n",
       "    </tr>\n",
       "    <tr>\n",
       "      <th>21</th>\n",
       "      <td>problem</td>\n",
       "      <td>474</td>\n",
       "    </tr>\n",
       "    <tr>\n",
       "      <th>22</th>\n",
       "      <td>customer</td>\n",
       "      <td>470</td>\n",
       "    </tr>\n",
       "    <tr>\n",
       "      <th>23</th>\n",
       "      <td>technology</td>\n",
       "      <td>456</td>\n",
       "    </tr>\n",
       "    <tr>\n",
       "      <th>24</th>\n",
       "      <td>new</td>\n",
       "      <td>455</td>\n",
       "    </tr>\n",
       "  </tbody>\n",
       "</table>\n",
       "</div>"
      ],
      "text/plain": [
       "          index     0\n",
       "0    experience  1884\n",
       "1          work  1460\n",
       "2         model  1176\n",
       "3          team  1154\n",
       "4      business  1057\n",
       "5         learn   970\n",
       "6       science   873\n",
       "7       product   777\n",
       "8      analysis   744\n",
       "9           use   712\n",
       "10      machine   651\n",
       "11        skill   650\n",
       "12        build   623\n",
       "13    analytics   616\n",
       "14  statistical   527\n",
       "15    scientist   525\n",
       "16     engineer   523\n",
       "17  opportunity   516\n",
       "18     solution   504\n",
       "19      ability   504\n",
       "20      include   480\n",
       "21      problem   474\n",
       "22     customer   470\n",
       "23   technology   456\n",
       "24          new   455"
      ]
     },
     "execution_count": 183,
     "metadata": {},
     "output_type": "execute_result"
    }
   ],
   "source": [
    "plot_sums"
   ]
  },
  {
   "cell_type": "markdown",
   "metadata": {
    "colab_type": "text",
    "id": "bwFsTqrVZMYi"
   },
   "source": [
    "## 5) Use Scikit-Learn's tfidfVectorizer to get a TF-IDF feature matrix"
   ]
  },
  {
   "cell_type": "code",
   "execution_count": null,
   "metadata": {
    "colab": {},
    "colab_type": "code",
    "id": "-gx2gZCbl5Np"
   },
   "outputs": [],
   "source": [
    "##### Your Code Here #####\n",
    "raise Exception(\"\\nThis task is not complete. \\nReplace this line with your code for the task.\""
   ]
  },
  {
   "cell_type": "markdown",
   "metadata": {},
   "source": [
    "## 6) Create a NearestNeighbor Model. Write the description of your ideal datascience job and query your job listings. "
   ]
  },
  {
   "cell_type": "code",
   "execution_count": null,
   "metadata": {
    "collapsed": false,
    "inputHidden": false,
    "jupyter": {
     "outputs_hidden": false
    },
    "outputHidden": false
   },
   "outputs": [],
   "source": [
    "##### Your Code Here #####\n",
    "raise Exception(\"\\nThis task is not complete. \\nReplace this line with your code for the task.\""
   ]
  },
  {
   "cell_type": "markdown",
   "metadata": {
    "colab_type": "text",
    "id": "FiDfTWceoRkH"
   },
   "source": [
    "## Stretch Goals\n",
    "\n",
    " - Try different visualizations for words and frequencies - what story do you want to tell with the data?\n",
    " - Scrape Job Listings for the job title \"Data Analyst\". How do these differ from Data Scientist Job Listings\n",
    " - Try and identify requirements for experience specific technologies that are asked for in the job listings. How are those distributed among the job listings?\n",
    " - Use a clustering algorithm to cluster documents by their most important terms. Do the clusters reveal any common themes?\n",
    "  - **Hint:** K-means might not be the best algorithm for this. Do a little bit of research to see what might be good for this. Also, remember that algorithms that depend on Euclidean distance break down with high dimensional data.\n",
    " - Create a labeled dataset - which jobs will you apply for? Train a model to select the jobs you are most likely to apply for. :) "
   ]
  }
 ],
 "metadata": {
  "colab": {
   "collapsed_sections": [],
   "name": "LS_DS_422_BOW_Assignment.ipynb",
   "provenance": [],
   "version": "0.3.2"
  },
  "kernel_info": {
   "name": "python3"
  },
  "kernelspec": {
   "display_name": "Python 3",
   "language": "python",
   "name": "python3"
  },
  "language_info": {
   "codemirror_mode": {
    "name": "ipython",
    "version": 3
   },
   "file_extension": ".py",
   "mimetype": "text/x-python",
   "name": "python",
   "nbconvert_exporter": "python",
   "pygments_lexer": "ipython3",
   "version": "3.8.3"
  },
  "nteract": {
   "version": "0.14.3"
  }
 },
 "nbformat": 4,
 "nbformat_minor": 4
}
